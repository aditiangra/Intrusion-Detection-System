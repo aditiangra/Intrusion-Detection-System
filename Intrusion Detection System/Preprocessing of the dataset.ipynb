{
 "cells": [
  {
   "cell_type": "code",
   "execution_count": null,
   "id": "fea38f43",
   "metadata": {},
   "outputs": [],
   "source": [
    "import pandas as pd\n",
    "import numpy as nd"
   ]
  },
  {
   "cell_type": "code",
   "execution_count": null,
   "id": "5a411282",
   "metadata": {},
   "outputs": [],
   "source": [
    "normaldata=pd.read_csv(\"D://Normal Dataset.csv\")"
   ]
  },
  {
   "cell_type": "code",
   "execution_count": null,
   "id": "ea2ece41",
   "metadata": {},
   "outputs": [],
   "source": [
    "normaldata"
   ]
  },
  {
   "cell_type": "code",
   "execution_count": null,
   "id": "ce9c091d",
   "metadata": {},
   "outputs": [],
   "source": [
    "nd=pd.DataFrame(normaldata)"
   ]
  },
  {
   "cell_type": "code",
   "execution_count": null,
   "id": "5b2a5f6c",
   "metadata": {},
   "outputs": [],
   "source": [
    "nd"
   ]
  },
  {
   "cell_type": "code",
   "execution_count": null,
   "id": "2749657f",
   "metadata": {},
   "outputs": [],
   "source": [
    "nd.rename(columns={'CONTROL_PACKET_TYPE/APP_NAME':'CONTROL_PACKET'},inplace=True)"
   ]
  },
  {
   "cell_type": "code",
   "execution_count": null,
   "id": "80a0032b",
   "metadata": {},
   "outputs": [],
   "source": [
    "nd=nd.drop(['SEGMENT_ID','APP_LAYER_ARRIVAL_TIME(US)','TRX_LAYER_ARRIVAL_TIME(US)','APP_LAYER_PAYLOAD(Bytes)','TRX_LAYER_PAYLOAD(Bytes)','LOCAL_ADDRESS','REMOTE_ADDRESS','CWND','SEQ_NO','ACK_NO','isSyn','isAck','isFin','SEGMENT_LEN' ] ,axis='columns')"
   ]
  },
  {
   "cell_type": "code",
   "execution_count": null,
   "id": "3345c1a9",
   "metadata": {},
   "outputs": [],
   "source": [
    "nd.info()\n"
   ]
  },
  {
   "cell_type": "code",
   "execution_count": null,
   "id": "0daeba3f",
   "metadata": {},
   "outputs": [],
   "source": [
    "data1=nd.iloc[:,0:17]\n",
    "id_dataset1=nd.iloc[:,17:21]"
   ]
  },
  {
   "cell_type": "code",
   "execution_count": null,
   "id": "b0e417ec",
   "metadata": {},
   "outputs": [],
   "source": [
    "data1['Class_Type']=0\n",
    "id_dataset1['Class_Type']=0"
   ]
  },
  {
   "cell_type": "code",
   "execution_count": null,
   "id": "50dd4916",
   "metadata": {
    "scrolled": true
   },
   "outputs": [],
   "source": [
    "data1.info()"
   ]
  },
  {
   "cell_type": "code",
   "execution_count": null,
   "id": "f5adbd67",
   "metadata": {},
   "outputs": [],
   "source": [
    "data1.head()"
   ]
  },
  {
   "cell_type": "code",
   "execution_count": null,
   "id": "30ed0fd3",
   "metadata": {},
   "outputs": [],
   "source": [
    "attackdata=pd.read_csv(\"D://Attack Dataset.csv\")"
   ]
  },
  {
   "cell_type": "code",
   "execution_count": null,
   "id": "5d001167",
   "metadata": {},
   "outputs": [],
   "source": [
    "attackdata"
   ]
  },
  {
   "cell_type": "code",
   "execution_count": null,
   "id": "42d434f5",
   "metadata": {},
   "outputs": [],
   "source": [
    "ad=pd.DataFrame(attackdata)"
   ]
  },
  {
   "cell_type": "code",
   "execution_count": null,
   "id": "0955c2a5",
   "metadata": {},
   "outputs": [],
   "source": [
    "ad.rename(columns={'CONTROL_PACKET_TYPE/APP_NAME':'CONTROL_PACKET'},inplace=True)"
   ]
  },
  {
   "cell_type": "code",
   "execution_count": null,
   "id": "3476b1fe",
   "metadata": {},
   "outputs": [],
   "source": [
    "ad=ad.drop(['SEGMENT_ID','APP_LAYER_ARRIVAL_TIME(US)','TRX_LAYER_ARRIVAL_TIME(US)','APP_LAYER_PAYLOAD(Bytes)','TRX_LAYER_PAYLOAD(Bytes)','LOCAL_ADDRESS','REMOTE_ADDRESS','CWND','SEQ_NO','ACK_NO','isSyn','isAck','isFin','SEGMENT_LEN' ] ,axis='columns')"
   ]
  },
  {
   "cell_type": "code",
   "execution_count": null,
   "id": "85531304",
   "metadata": {},
   "outputs": [],
   "source": [
    "data2=ad.iloc[:,0:17]\n",
    "id_dataset2=ad.iloc[:,17:21]"
   ]
  },
  {
   "cell_type": "code",
   "execution_count": null,
   "id": "9a0fee61",
   "metadata": {},
   "outputs": [],
   "source": [
    "data2['Class_Type']=1\n",
    "id_dataset2['Class_Type']=1"
   ]
  },
  {
   "cell_type": "code",
   "execution_count": null,
   "id": "501e9aa6",
   "metadata": {},
   "outputs": [],
   "source": [
    "data2"
   ]
  },
  {
   "cell_type": "code",
   "execution_count": null,
   "id": "830c0309",
   "metadata": {},
   "outputs": [],
   "source": [
    "data=pd.concat([data1,data2],axis=0,ignore_index=True)"
   ]
  },
  {
   "cell_type": "code",
   "execution_count": null,
   "id": "d804f598",
   "metadata": {},
   "outputs": [],
   "source": [
    "data"
   ]
  },
  {
   "cell_type": "code",
   "execution_count": null,
   "id": "f8dce72b",
   "metadata": {},
   "outputs": [],
   "source": [
    "data['PACKET_TYPE'].value_counts()"
   ]
  },
  {
   "cell_type": "code",
   "execution_count": null,
   "id": "4a0bb310",
   "metadata": {
    "scrolled": true
   },
   "outputs": [],
   "source": [
    "data.drop(['CONTROL_PACKET'],axis=1)"
   ]
  },
  {
   "cell_type": "code",
   "execution_count": null,
   "id": "e5c00124",
   "metadata": {},
   "outputs": [],
   "source": [
    "data.shape"
   ]
  },
  {
   "cell_type": "code",
   "execution_count": null,
   "id": "77e224f3",
   "metadata": {},
   "outputs": [],
   "source": [
    "#data.to_excel(r'D:\\\\Raw_data.xlsx')"
   ]
  },
  {
   "cell_type": "code",
   "execution_count": null,
   "id": "dec96fdb",
   "metadata": {},
   "outputs": [],
   "source": [
    "data.drop(['DESTINATION_ID','TRANSMITTER_ID'],axis=1)"
   ]
  },
  {
   "cell_type": "code",
   "execution_count": null,
   "id": "246a99f2",
   "metadata": {},
   "outputs": [],
   "source": []
  },
  {
   "cell_type": "code",
   "execution_count": null,
   "id": "46280640",
   "metadata": {},
   "outputs": [],
   "source": []
  },
  {
   "cell_type": "code",
   "execution_count": null,
   "id": "2ff82e14",
   "metadata": {
    "scrolled": true
   },
   "outputs": [],
   "source": [
    "data['CONTROL_PACKET'].value_counts()"
   ]
  },
  {
   "cell_type": "code",
   "execution_count": null,
   "id": "20a3d674",
   "metadata": {},
   "outputs": [],
   "source": [
    "counts=data['CONTROL_PACKET'].value_counts()"
   ]
  },
  {
   "cell_type": "code",
   "execution_count": null,
   "id": "58ba7e11",
   "metadata": {},
   "outputs": [],
   "source": [
    "data['CONTROL_PACKET'].nunique()\n",
    "threshold = 500"
   ]
  },
  {
   "cell_type": "code",
   "execution_count": null,
   "id": "825436ed",
   "metadata": {},
   "outputs": [],
   "source": [
    "repl = counts[counts <= threshold].index"
   ]
  },
  {
   "cell_type": "code",
   "execution_count": null,
   "id": "d6a41cc6",
   "metadata": {},
   "outputs": [],
   "source": [
    "repl"
   ]
  },
  {
   "cell_type": "code",
   "execution_count": null,
   "id": "e55d089a",
   "metadata": {},
   "outputs": [],
   "source": [
    "df=pd.get_dummies(data['CONTROL_PACKET'])"
   ]
  },
  {
   "cell_type": "code",
   "execution_count": null,
   "id": "aba321f8",
   "metadata": {},
   "outputs": [],
   "source": [
    "df"
   ]
  },
  {
   "cell_type": "code",
   "execution_count": null,
   "id": "3580546b",
   "metadata": {},
   "outputs": [],
   "source": [
    "\n",
    "df=df.drop(['OSPF_HELLO', 'OSPF_DD', 'OSPF_LSUPDATE', 'OSPF_LSACK', 'OSPF_LSREQ'],axis=1)\n"
   ]
  },
  {
   "cell_type": "code",
   "execution_count": null,
   "id": "d8be9ff6",
   "metadata": {},
   "outputs": [],
   "source": [
    "df=df.drop('App1_CBR',axis=1)"
   ]
  },
  {
   "cell_type": "code",
   "execution_count": null,
   "id": "8ce26e5b",
   "metadata": {},
   "outputs": [],
   "source": [
    "df"
   ]
  },
  {
   "cell_type": "code",
   "execution_count": null,
   "id": "1f3c5390",
   "metadata": {},
   "outputs": [],
   "source": [
    "new_df=pd.concat([df,data],axis=1)"
   ]
  },
  {
   "cell_type": "code",
   "execution_count": null,
   "id": "436fb3ff",
   "metadata": {},
   "outputs": [],
   "source": [
    "new_df=new_df.drop('CONTROL_PACKET',axis=1)"
   ]
  },
  {
   "cell_type": "code",
   "execution_count": null,
   "id": "77956a8e",
   "metadata": {},
   "outputs": [],
   "source": [
    "new_df"
   ]
  },
  {
   "cell_type": "code",
   "execution_count": null,
   "id": "6cacbf84",
   "metadata": {},
   "outputs": [],
   "source": [
    "df2=pd.get_dummies(new_df['PACKET_STATUS'])"
   ]
  },
  {
   "cell_type": "code",
   "execution_count": null,
   "id": "3ecdf111",
   "metadata": {},
   "outputs": [],
   "source": [
    "df2=df2.drop('Errored',axis=1)"
   ]
  },
  {
   "cell_type": "code",
   "execution_count": null,
   "id": "c269e91b",
   "metadata": {},
   "outputs": [],
   "source": [
    "df2"
   ]
  },
  {
   "cell_type": "code",
   "execution_count": null,
   "id": "f5aeac02",
   "metadata": {},
   "outputs": [],
   "source": [
    "new_df=new_df.drop()"
   ]
  },
  {
   "cell_type": "code",
   "execution_count": null,
   "id": "56f992a0",
   "metadata": {},
   "outputs": [],
   "source": []
  },
  {
   "cell_type": "code",
   "execution_count": null,
   "id": "27ef0c70",
   "metadata": {
    "scrolled": true
   },
   "outputs": [],
   "source": [
    "new_df"
   ]
  },
  {
   "cell_type": "code",
   "execution_count": null,
   "id": "518ddfd1",
   "metadata": {},
   "outputs": [],
   "source": [
    "new_df.info()"
   ]
  },
  {
   "cell_type": "code",
   "execution_count": null,
   "id": "a57111c3",
   "metadata": {},
   "outputs": [],
   "source": [
    "df2"
   ]
  },
  {
   "cell_type": "code",
   "execution_count": null,
   "id": "4e739661",
   "metadata": {
    "scrolled": true
   },
   "outputs": [],
   "source": [
    "df2=df2.drop(['Errored'],axis=1)"
   ]
  },
  {
   "cell_type": "code",
   "execution_count": null,
   "id": "ccda6316",
   "metadata": {},
   "outputs": [],
   "source": [
    "df2"
   ]
  },
  {
   "cell_type": "code",
   "execution_count": null,
   "id": "e02da797",
   "metadata": {},
   "outputs": [],
   "source": [
    "df2"
   ]
  },
  {
   "cell_type": "code",
   "execution_count": null,
   "id": "e292b2ec",
   "metadata": {},
   "outputs": [],
   "source": [
    "new_df=pd.concat([df2,new_df],axis=1)"
   ]
  },
  {
   "cell_type": "code",
   "execution_count": null,
   "id": "4fd3af21",
   "metadata": {},
   "outputs": [],
   "source": [
    "new_df"
   ]
  },
  {
   "cell_type": "code",
   "execution_count": null,
   "id": "863ba658",
   "metadata": {
    "scrolled": true
   },
   "outputs": [],
   "source": [
    "new_df.info()"
   ]
  },
  {
   "cell_type": "code",
   "execution_count": null,
   "id": "aa9ee005",
   "metadata": {},
   "outputs": [],
   "source": [
    "new_df=new_df.drop(['SOURCE_ID','RECEIVER_ID'],axis=1)"
   ]
  },
  {
   "cell_type": "code",
   "execution_count": null,
   "id": "1850824e",
   "metadata": {
    "scrolled": true
   },
   "outputs": [],
   "source": [
    "new_df.info()"
   ]
  },
  {
   "cell_type": "code",
   "execution_count": null,
   "id": "fee5570a",
   "metadata": {},
   "outputs": [],
   "source": [
    "new_df=new_df.drop(['DESTINATION_ID','TRANSMITTER_ID'],axis=1)"
   ]
  },
  {
   "cell_type": "code",
   "execution_count": null,
   "id": "3da11d9a",
   "metadata": {},
   "outputs": [],
   "source": [
    "new_df"
   ]
  },
  {
   "cell_type": "code",
   "execution_count": null,
   "id": "8e0b66d7",
   "metadata": {},
   "outputs": [],
   "source": [
    "df1=pd.get_dummies(new_df['PACKET_TYPE'])"
   ]
  },
  {
   "cell_type": "code",
   "execution_count": null,
   "id": "55251c7d",
   "metadata": {},
   "outputs": [],
   "source": [
    "df1"
   ]
  },
  {
   "cell_type": "code",
   "execution_count": null,
   "id": "b0a3f273",
   "metadata": {},
   "outputs": [],
   "source": [
    "new_df=pd.concat([df1,new_df],axis=1)"
   ]
  },
  {
   "cell_type": "code",
   "execution_count": null,
   "id": "e0155bf8",
   "metadata": {},
   "outputs": [],
   "source": [
    "new_df"
   ]
  },
  {
   "cell_type": "code",
   "execution_count": null,
   "id": "1308f0d8",
   "metadata": {},
   "outputs": [],
   "source": [
    "new_df=new_df.drop(['PACKET_TYPE','CBR'],axis=1)"
   ]
  },
  {
   "cell_type": "code",
   "execution_count": null,
   "id": "2d56c540",
   "metadata": {},
   "outputs": [],
   "source": [
    "new_df"
   ]
  },
  {
   "cell_type": "code",
   "execution_count": null,
   "id": "eaedbb94",
   "metadata": {},
   "outputs": [],
   "source": [
    "new_df.info()"
   ]
  },
  {
   "cell_type": "code",
   "execution_count": null,
   "id": "6423cc00",
   "metadata": {},
   "outputs": [],
   "source": [
    "new_df"
   ]
  },
  {
   "cell_type": "code",
   "execution_count": null,
   "id": "804b950d",
   "metadata": {},
   "outputs": [],
   "source": [
    "#new_df.to_excel(r'D:\\\\Encoded_data.xlsx')"
   ]
  },
  {
   "cell_type": "code",
   "execution_count": null,
   "id": "85ced473",
   "metadata": {},
   "outputs": [],
   "source": [
    "two_columns = pd.read_excel(\"D:\\\\Raw_data.xlsx\")\n"
   ]
  },
  {
   "cell_type": "code",
   "execution_count": null,
   "id": "299249ca",
   "metadata": {},
   "outputs": [],
   "source": [
    "two_columns.info()"
   ]
  },
  {
   "cell_type": "code",
   "execution_count": null,
   "id": "16299dd3",
   "metadata": {},
   "outputs": [],
   "source": [
    "two_columns=two_columns.drop(['Unnamed: 0','PACKET_ID','CONTROL_PACKET','NW_LAYER_ARRIVAL_TIME(US)','MAC_LAYER_ARRIVAL_TIME(US)','PHY_LAYER_ARRIVAL_TIME(US)','PHY_LAYER_START_TIME(US)','PHY_LAYER_END_TIME(US)','NW_LAYER_PAYLOAD(Bytes)','MAC_LAYER_PAYLOAD(Bytes)','PHY_LAYER_PAYLOAD(Bytes)','PHY_LAYER_OVERHEAD(Bytes)','PACKET_STATUS','Class_Type'],axis=1)"
   ]
  },
  {
   "cell_type": "code",
   "execution_count": null,
   "id": "bf9072b2",
   "metadata": {},
   "outputs": [],
   "source": [
    "two_columns"
   ]
  },
  {
   "cell_type": "code",
   "execution_count": null,
   "id": "6c5c2d87",
   "metadata": {},
   "outputs": [],
   "source": [
    "two_columns=two_columns.drop('PACKET_TYPE',axis=1)"
   ]
  },
  {
   "cell_type": "code",
   "execution_count": null,
   "id": "078d2572",
   "metadata": {},
   "outputs": [],
   "source": [
    "two_columns"
   ]
  },
  {
   "cell_type": "code",
   "execution_count": null,
   "id": "f68b24f9",
   "metadata": {},
   "outputs": [],
   "source": [
    "new_df"
   ]
  },
  {
   "cell_type": "code",
   "execution_count": null,
   "id": "5e2a5c19",
   "metadata": {},
   "outputs": [],
   "source": []
  }
 ],
 "metadata": {
  "kernelspec": {
   "display_name": "Python 3 (ipykernel)",
   "language": "python",
   "name": "python3"
  },
  "language_info": {
   "codemirror_mode": {
    "name": "ipython",
    "version": 3
   },
   "file_extension": ".py",
   "mimetype": "text/x-python",
   "name": "python",
   "nbconvert_exporter": "python",
   "pygments_lexer": "ipython3",
   "version": "3.9.12"
  }
 },
 "nbformat": 4,
 "nbformat_minor": 5
}
